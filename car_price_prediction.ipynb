{
  "nbformat": 4,
  "nbformat_minor": 0,
  "metadata": {
    "colab": {
      "provenance": [],
      "authorship_tag": "ABX9TyNOFf+BuoKKDIzNQEo4DZ6W",
      "include_colab_link": true
    },
    "kernelspec": {
      "name": "python3",
      "display_name": "Python 3"
    },
    "language_info": {
      "name": "python"
    }
  },
  "cells": [
    {
      "cell_type": "markdown",
      "metadata": {
        "id": "view-in-github",
        "colab_type": "text"
      },
      "source": [
        "<a href=\"https://colab.research.google.com/github/Dhananjaypre28/machine-Learning-projects/blob/main/car_price_prediction.ipynb\" target=\"_parent\"><img src=\"https://colab.research.google.com/assets/colab-badge.svg\" alt=\"Open In Colab\"/></a>"
      ]
    },
    {
      "cell_type": "code",
      "execution_count": null,
      "metadata": {
        "id": "UDF-SSjTnEkr"
      },
      "outputs": [],
      "source": [
        "import datetime\n",
        "\n",
        "import numpy as np\n",
        "import pandas as pd\n",
        "\n",
        "import matplotlib.pyplot as plt\n",
        "import seaborn as sns\n",
        "%matplotlib inline\n",
        "\n",
        "from sklearn.model_selection import train_test_split\n",
        "from sklearn.linear_model import LinearRegression\n",
        "from sklearn.ensemble import RandomForestRegressor\n",
        "from sklearn.preprocessing import StandardScaler\n",
        "from sklearn.metrics import r2_score"
      ]
    },
    {
      "cell_type": "markdown",
      "source": [
        " Read dataset\n",
        "\n",
        "I'll read the dataset and get information about it."
      ],
      "metadata": {
        "id": "KFyxZnlRn_Sm"
      }
    },
    {
      "cell_type": "code",
      "source": [
        "dataset = pd.read_csv(\"/content/dataset.csv\")\n",
        "dataset.head(20)"
      ],
      "metadata": {
        "colab": {
          "base_uri": "https://localhost:8080/",
          "height": 1000
        },
        "id": "YEt0IXB8nrKD",
        "outputId": "e64afb5b-380e-402c-dd48-9aaa69205bef"
      },
      "execution_count": null,
      "outputs": [
        {
          "output_type": "execute_result",
          "data": {
            "text/plain": [
              "    Unnamed: 0                                              Name    Location  \\\n",
              "0            0                            Maruti Wagon R LXI CNG      Mumbai   \n",
              "1            1                  Hyundai Creta 1.6 CRDi SX Option        Pune   \n",
              "2            2                                      Honda Jazz V     Chennai   \n",
              "3            3                                 Maruti Ertiga VDI     Chennai   \n",
              "4            4                   Audi A4 New 2.0 TDI Multitronic  Coimbatore   \n",
              "5            5                   Hyundai EON LPG Era Plus Option   Hyderabad   \n",
              "6            6                            Nissan Micra Diesel XV      Jaipur   \n",
              "7            7                 Toyota Innova Crysta 2.8 GX AT 8S      Mumbai   \n",
              "8            8               Volkswagen Vento Diesel Comfortline        Pune   \n",
              "9            9                    Tata Indica Vista Quadrajet LS     Chennai   \n",
              "10          10                                  Maruti Ciaz Zeta       Kochi   \n",
              "11          11                       Honda City 1.5 V AT Sunroof     Kolkata   \n",
              "12          12                             Maruti Swift VDI BSIV      Jaipur   \n",
              "13          13                  Land Rover Range Rover 2.2L Pure       Delhi   \n",
              "14          14                    Land Rover Freelander 2 TD4 SE        Pune   \n",
              "15          15                       Mitsubishi Pajero Sport 4X4       Delhi   \n",
              "16          16                             Honda Amaze S i-Dtech       Kochi   \n",
              "17          17                             Maruti Swift DDiS VDI      Jaipur   \n",
              "18          18               Renault Duster 85PS Diesel RxL Plus       Kochi   \n",
              "19          19  Mercedes-Benz New C-Class C 220 CDI BE Avantgare   Bangalore   \n",
              "\n",
              "    Year  Kilometers_Driven Fuel_Type Transmission Owner_Type     Mileage  \\\n",
              "0   2010              72000       CNG       Manual      First  26.6 km/kg   \n",
              "1   2015              41000    Diesel       Manual      First  19.67 kmpl   \n",
              "2   2011              46000    Petrol       Manual      First   18.2 kmpl   \n",
              "3   2012              87000    Diesel       Manual      First  20.77 kmpl   \n",
              "4   2013              40670    Diesel    Automatic     Second   15.2 kmpl   \n",
              "5   2012              75000       LPG       Manual      First  21.1 km/kg   \n",
              "6   2013              86999    Diesel       Manual      First  23.08 kmpl   \n",
              "7   2016              36000    Diesel    Automatic      First  11.36 kmpl   \n",
              "8   2013              64430    Diesel       Manual      First  20.54 kmpl   \n",
              "9   2012              65932    Diesel       Manual     Second   22.3 kmpl   \n",
              "10  2018              25692    Petrol       Manual      First  21.56 kmpl   \n",
              "11  2012              60000    Petrol    Automatic      First   16.8 kmpl   \n",
              "12  2015              64424    Diesel       Manual      First   25.2 kmpl   \n",
              "13  2014              72000    Diesel    Automatic      First   12.7 kmpl   \n",
              "14  2012              85000    Diesel    Automatic     Second    0.0 kmpl   \n",
              "15  2014             110000    Diesel       Manual      First   13.5 kmpl   \n",
              "16  2016              58950    Diesel       Manual      First   25.8 kmpl   \n",
              "17  2017              25000    Diesel       Manual      First   28.4 kmpl   \n",
              "18  2014              77469    Diesel       Manual      First  20.45 kmpl   \n",
              "19  2014              78500    Diesel    Automatic      First  14.84 kmpl   \n",
              "\n",
              "     Engine       Power  Seats   New_Price  Price  \n",
              "0    998 CC   58.16 bhp    5.0         NaN   1.75  \n",
              "1   1582 CC   126.2 bhp    5.0         NaN  12.50  \n",
              "2   1199 CC    88.7 bhp    5.0   8.61 Lakh   4.50  \n",
              "3   1248 CC   88.76 bhp    7.0         NaN   6.00  \n",
              "4   1968 CC   140.8 bhp    5.0         NaN  17.74  \n",
              "5    814 CC    55.2 bhp    5.0         NaN   2.35  \n",
              "6   1461 CC    63.1 bhp    5.0         NaN   3.50  \n",
              "7   2755 CC   171.5 bhp    8.0     21 Lakh  17.50  \n",
              "8   1598 CC   103.6 bhp    5.0         NaN   5.20  \n",
              "9   1248 CC      74 bhp    5.0         NaN   1.95  \n",
              "10  1462 CC  103.25 bhp    5.0  10.65 Lakh   9.95  \n",
              "11  1497 CC   116.3 bhp    5.0         NaN   4.49  \n",
              "12  1248 CC      74 bhp    5.0         NaN   5.60  \n",
              "13  2179 CC   187.7 bhp    5.0         NaN  27.00  \n",
              "14  2179 CC     115 bhp    5.0         NaN  17.50  \n",
              "15  2477 CC  175.56 bhp    7.0  32.01 Lakh  15.00  \n",
              "16  1498 CC    98.6 bhp    5.0         NaN   5.40  \n",
              "17  1248 CC      74 bhp    5.0         NaN   5.99  \n",
              "18  1461 CC    83.8 bhp    5.0         NaN   6.34  \n",
              "19  2143 CC  167.62 bhp    5.0         NaN  28.00  "
            ],
            "text/html": [
              "\n",
              "  <div id=\"df-1d132eb6-3d90-4d7d-901f-4411048bc664\" class=\"colab-df-container\">\n",
              "    <div>\n",
              "<style scoped>\n",
              "    .dataframe tbody tr th:only-of-type {\n",
              "        vertical-align: middle;\n",
              "    }\n",
              "\n",
              "    .dataframe tbody tr th {\n",
              "        vertical-align: top;\n",
              "    }\n",
              "\n",
              "    .dataframe thead th {\n",
              "        text-align: right;\n",
              "    }\n",
              "</style>\n",
              "<table border=\"1\" class=\"dataframe\">\n",
              "  <thead>\n",
              "    <tr style=\"text-align: right;\">\n",
              "      <th></th>\n",
              "      <th>Unnamed: 0</th>\n",
              "      <th>Name</th>\n",
              "      <th>Location</th>\n",
              "      <th>Year</th>\n",
              "      <th>Kilometers_Driven</th>\n",
              "      <th>Fuel_Type</th>\n",
              "      <th>Transmission</th>\n",
              "      <th>Owner_Type</th>\n",
              "      <th>Mileage</th>\n",
              "      <th>Engine</th>\n",
              "      <th>Power</th>\n",
              "      <th>Seats</th>\n",
              "      <th>New_Price</th>\n",
              "      <th>Price</th>\n",
              "    </tr>\n",
              "  </thead>\n",
              "  <tbody>\n",
              "    <tr>\n",
              "      <th>0</th>\n",
              "      <td>0</td>\n",
              "      <td>Maruti Wagon R LXI CNG</td>\n",
              "      <td>Mumbai</td>\n",
              "      <td>2010</td>\n",
              "      <td>72000</td>\n",
              "      <td>CNG</td>\n",
              "      <td>Manual</td>\n",
              "      <td>First</td>\n",
              "      <td>26.6 km/kg</td>\n",
              "      <td>998 CC</td>\n",
              "      <td>58.16 bhp</td>\n",
              "      <td>5.0</td>\n",
              "      <td>NaN</td>\n",
              "      <td>1.75</td>\n",
              "    </tr>\n",
              "    <tr>\n",
              "      <th>1</th>\n",
              "      <td>1</td>\n",
              "      <td>Hyundai Creta 1.6 CRDi SX Option</td>\n",
              "      <td>Pune</td>\n",
              "      <td>2015</td>\n",
              "      <td>41000</td>\n",
              "      <td>Diesel</td>\n",
              "      <td>Manual</td>\n",
              "      <td>First</td>\n",
              "      <td>19.67 kmpl</td>\n",
              "      <td>1582 CC</td>\n",
              "      <td>126.2 bhp</td>\n",
              "      <td>5.0</td>\n",
              "      <td>NaN</td>\n",
              "      <td>12.50</td>\n",
              "    </tr>\n",
              "    <tr>\n",
              "      <th>2</th>\n",
              "      <td>2</td>\n",
              "      <td>Honda Jazz V</td>\n",
              "      <td>Chennai</td>\n",
              "      <td>2011</td>\n",
              "      <td>46000</td>\n",
              "      <td>Petrol</td>\n",
              "      <td>Manual</td>\n",
              "      <td>First</td>\n",
              "      <td>18.2 kmpl</td>\n",
              "      <td>1199 CC</td>\n",
              "      <td>88.7 bhp</td>\n",
              "      <td>5.0</td>\n",
              "      <td>8.61 Lakh</td>\n",
              "      <td>4.50</td>\n",
              "    </tr>\n",
              "    <tr>\n",
              "      <th>3</th>\n",
              "      <td>3</td>\n",
              "      <td>Maruti Ertiga VDI</td>\n",
              "      <td>Chennai</td>\n",
              "      <td>2012</td>\n",
              "      <td>87000</td>\n",
              "      <td>Diesel</td>\n",
              "      <td>Manual</td>\n",
              "      <td>First</td>\n",
              "      <td>20.77 kmpl</td>\n",
              "      <td>1248 CC</td>\n",
              "      <td>88.76 bhp</td>\n",
              "      <td>7.0</td>\n",
              "      <td>NaN</td>\n",
              "      <td>6.00</td>\n",
              "    </tr>\n",
              "    <tr>\n",
              "      <th>4</th>\n",
              "      <td>4</td>\n",
              "      <td>Audi A4 New 2.0 TDI Multitronic</td>\n",
              "      <td>Coimbatore</td>\n",
              "      <td>2013</td>\n",
              "      <td>40670</td>\n",
              "      <td>Diesel</td>\n",
              "      <td>Automatic</td>\n",
              "      <td>Second</td>\n",
              "      <td>15.2 kmpl</td>\n",
              "      <td>1968 CC</td>\n",
              "      <td>140.8 bhp</td>\n",
              "      <td>5.0</td>\n",
              "      <td>NaN</td>\n",
              "      <td>17.74</td>\n",
              "    </tr>\n",
              "    <tr>\n",
              "      <th>5</th>\n",
              "      <td>5</td>\n",
              "      <td>Hyundai EON LPG Era Plus Option</td>\n",
              "      <td>Hyderabad</td>\n",
              "      <td>2012</td>\n",
              "      <td>75000</td>\n",
              "      <td>LPG</td>\n",
              "      <td>Manual</td>\n",
              "      <td>First</td>\n",
              "      <td>21.1 km/kg</td>\n",
              "      <td>814 CC</td>\n",
              "      <td>55.2 bhp</td>\n",
              "      <td>5.0</td>\n",
              "      <td>NaN</td>\n",
              "      <td>2.35</td>\n",
              "    </tr>\n",
              "    <tr>\n",
              "      <th>6</th>\n",
              "      <td>6</td>\n",
              "      <td>Nissan Micra Diesel XV</td>\n",
              "      <td>Jaipur</td>\n",
              "      <td>2013</td>\n",
              "      <td>86999</td>\n",
              "      <td>Diesel</td>\n",
              "      <td>Manual</td>\n",
              "      <td>First</td>\n",
              "      <td>23.08 kmpl</td>\n",
              "      <td>1461 CC</td>\n",
              "      <td>63.1 bhp</td>\n",
              "      <td>5.0</td>\n",
              "      <td>NaN</td>\n",
              "      <td>3.50</td>\n",
              "    </tr>\n",
              "    <tr>\n",
              "      <th>7</th>\n",
              "      <td>7</td>\n",
              "      <td>Toyota Innova Crysta 2.8 GX AT 8S</td>\n",
              "      <td>Mumbai</td>\n",
              "      <td>2016</td>\n",
              "      <td>36000</td>\n",
              "      <td>Diesel</td>\n",
              "      <td>Automatic</td>\n",
              "      <td>First</td>\n",
              "      <td>11.36 kmpl</td>\n",
              "      <td>2755 CC</td>\n",
              "      <td>171.5 bhp</td>\n",
              "      <td>8.0</td>\n",
              "      <td>21 Lakh</td>\n",
              "      <td>17.50</td>\n",
              "    </tr>\n",
              "    <tr>\n",
              "      <th>8</th>\n",
              "      <td>8</td>\n",
              "      <td>Volkswagen Vento Diesel Comfortline</td>\n",
              "      <td>Pune</td>\n",
              "      <td>2013</td>\n",
              "      <td>64430</td>\n",
              "      <td>Diesel</td>\n",
              "      <td>Manual</td>\n",
              "      <td>First</td>\n",
              "      <td>20.54 kmpl</td>\n",
              "      <td>1598 CC</td>\n",
              "      <td>103.6 bhp</td>\n",
              "      <td>5.0</td>\n",
              "      <td>NaN</td>\n",
              "      <td>5.20</td>\n",
              "    </tr>\n",
              "    <tr>\n",
              "      <th>9</th>\n",
              "      <td>9</td>\n",
              "      <td>Tata Indica Vista Quadrajet LS</td>\n",
              "      <td>Chennai</td>\n",
              "      <td>2012</td>\n",
              "      <td>65932</td>\n",
              "      <td>Diesel</td>\n",
              "      <td>Manual</td>\n",
              "      <td>Second</td>\n",
              "      <td>22.3 kmpl</td>\n",
              "      <td>1248 CC</td>\n",
              "      <td>74 bhp</td>\n",
              "      <td>5.0</td>\n",
              "      <td>NaN</td>\n",
              "      <td>1.95</td>\n",
              "    </tr>\n",
              "    <tr>\n",
              "      <th>10</th>\n",
              "      <td>10</td>\n",
              "      <td>Maruti Ciaz Zeta</td>\n",
              "      <td>Kochi</td>\n",
              "      <td>2018</td>\n",
              "      <td>25692</td>\n",
              "      <td>Petrol</td>\n",
              "      <td>Manual</td>\n",
              "      <td>First</td>\n",
              "      <td>21.56 kmpl</td>\n",
              "      <td>1462 CC</td>\n",
              "      <td>103.25 bhp</td>\n",
              "      <td>5.0</td>\n",
              "      <td>10.65 Lakh</td>\n",
              "      <td>9.95</td>\n",
              "    </tr>\n",
              "    <tr>\n",
              "      <th>11</th>\n",
              "      <td>11</td>\n",
              "      <td>Honda City 1.5 V AT Sunroof</td>\n",
              "      <td>Kolkata</td>\n",
              "      <td>2012</td>\n",
              "      <td>60000</td>\n",
              "      <td>Petrol</td>\n",
              "      <td>Automatic</td>\n",
              "      <td>First</td>\n",
              "      <td>16.8 kmpl</td>\n",
              "      <td>1497 CC</td>\n",
              "      <td>116.3 bhp</td>\n",
              "      <td>5.0</td>\n",
              "      <td>NaN</td>\n",
              "      <td>4.49</td>\n",
              "    </tr>\n",
              "    <tr>\n",
              "      <th>12</th>\n",
              "      <td>12</td>\n",
              "      <td>Maruti Swift VDI BSIV</td>\n",
              "      <td>Jaipur</td>\n",
              "      <td>2015</td>\n",
              "      <td>64424</td>\n",
              "      <td>Diesel</td>\n",
              "      <td>Manual</td>\n",
              "      <td>First</td>\n",
              "      <td>25.2 kmpl</td>\n",
              "      <td>1248 CC</td>\n",
              "      <td>74 bhp</td>\n",
              "      <td>5.0</td>\n",
              "      <td>NaN</td>\n",
              "      <td>5.60</td>\n",
              "    </tr>\n",
              "    <tr>\n",
              "      <th>13</th>\n",
              "      <td>13</td>\n",
              "      <td>Land Rover Range Rover 2.2L Pure</td>\n",
              "      <td>Delhi</td>\n",
              "      <td>2014</td>\n",
              "      <td>72000</td>\n",
              "      <td>Diesel</td>\n",
              "      <td>Automatic</td>\n",
              "      <td>First</td>\n",
              "      <td>12.7 kmpl</td>\n",
              "      <td>2179 CC</td>\n",
              "      <td>187.7 bhp</td>\n",
              "      <td>5.0</td>\n",
              "      <td>NaN</td>\n",
              "      <td>27.00</td>\n",
              "    </tr>\n",
              "    <tr>\n",
              "      <th>14</th>\n",
              "      <td>14</td>\n",
              "      <td>Land Rover Freelander 2 TD4 SE</td>\n",
              "      <td>Pune</td>\n",
              "      <td>2012</td>\n",
              "      <td>85000</td>\n",
              "      <td>Diesel</td>\n",
              "      <td>Automatic</td>\n",
              "      <td>Second</td>\n",
              "      <td>0.0 kmpl</td>\n",
              "      <td>2179 CC</td>\n",
              "      <td>115 bhp</td>\n",
              "      <td>5.0</td>\n",
              "      <td>NaN</td>\n",
              "      <td>17.50</td>\n",
              "    </tr>\n",
              "    <tr>\n",
              "      <th>15</th>\n",
              "      <td>15</td>\n",
              "      <td>Mitsubishi Pajero Sport 4X4</td>\n",
              "      <td>Delhi</td>\n",
              "      <td>2014</td>\n",
              "      <td>110000</td>\n",
              "      <td>Diesel</td>\n",
              "      <td>Manual</td>\n",
              "      <td>First</td>\n",
              "      <td>13.5 kmpl</td>\n",
              "      <td>2477 CC</td>\n",
              "      <td>175.56 bhp</td>\n",
              "      <td>7.0</td>\n",
              "      <td>32.01 Lakh</td>\n",
              "      <td>15.00</td>\n",
              "    </tr>\n",
              "    <tr>\n",
              "      <th>16</th>\n",
              "      <td>16</td>\n",
              "      <td>Honda Amaze S i-Dtech</td>\n",
              "      <td>Kochi</td>\n",
              "      <td>2016</td>\n",
              "      <td>58950</td>\n",
              "      <td>Diesel</td>\n",
              "      <td>Manual</td>\n",
              "      <td>First</td>\n",
              "      <td>25.8 kmpl</td>\n",
              "      <td>1498 CC</td>\n",
              "      <td>98.6 bhp</td>\n",
              "      <td>5.0</td>\n",
              "      <td>NaN</td>\n",
              "      <td>5.40</td>\n",
              "    </tr>\n",
              "    <tr>\n",
              "      <th>17</th>\n",
              "      <td>17</td>\n",
              "      <td>Maruti Swift DDiS VDI</td>\n",
              "      <td>Jaipur</td>\n",
              "      <td>2017</td>\n",
              "      <td>25000</td>\n",
              "      <td>Diesel</td>\n",
              "      <td>Manual</td>\n",
              "      <td>First</td>\n",
              "      <td>28.4 kmpl</td>\n",
              "      <td>1248 CC</td>\n",
              "      <td>74 bhp</td>\n",
              "      <td>5.0</td>\n",
              "      <td>NaN</td>\n",
              "      <td>5.99</td>\n",
              "    </tr>\n",
              "    <tr>\n",
              "      <th>18</th>\n",
              "      <td>18</td>\n",
              "      <td>Renault Duster 85PS Diesel RxL Plus</td>\n",
              "      <td>Kochi</td>\n",
              "      <td>2014</td>\n",
              "      <td>77469</td>\n",
              "      <td>Diesel</td>\n",
              "      <td>Manual</td>\n",
              "      <td>First</td>\n",
              "      <td>20.45 kmpl</td>\n",
              "      <td>1461 CC</td>\n",
              "      <td>83.8 bhp</td>\n",
              "      <td>5.0</td>\n",
              "      <td>NaN</td>\n",
              "      <td>6.34</td>\n",
              "    </tr>\n",
              "    <tr>\n",
              "      <th>19</th>\n",
              "      <td>19</td>\n",
              "      <td>Mercedes-Benz New C-Class C 220 CDI BE Avantgare</td>\n",
              "      <td>Bangalore</td>\n",
              "      <td>2014</td>\n",
              "      <td>78500</td>\n",
              "      <td>Diesel</td>\n",
              "      <td>Automatic</td>\n",
              "      <td>First</td>\n",
              "      <td>14.84 kmpl</td>\n",
              "      <td>2143 CC</td>\n",
              "      <td>167.62 bhp</td>\n",
              "      <td>5.0</td>\n",
              "      <td>NaN</td>\n",
              "      <td>28.00</td>\n",
              "    </tr>\n",
              "  </tbody>\n",
              "</table>\n",
              "</div>\n",
              "    <div class=\"colab-df-buttons\">\n",
              "\n",
              "  <div class=\"colab-df-container\">\n",
              "    <button class=\"colab-df-convert\" onclick=\"convertToInteractive('df-1d132eb6-3d90-4d7d-901f-4411048bc664')\"\n",
              "            title=\"Convert this dataframe to an interactive table.\"\n",
              "            style=\"display:none;\">\n",
              "\n",
              "  <svg xmlns=\"http://www.w3.org/2000/svg\" height=\"24px\" viewBox=\"0 -960 960 960\">\n",
              "    <path d=\"M120-120v-720h720v720H120Zm60-500h600v-160H180v160Zm220 220h160v-160H400v160Zm0 220h160v-160H400v160ZM180-400h160v-160H180v160Zm440 0h160v-160H620v160ZM180-180h160v-160H180v160Zm440 0h160v-160H620v160Z\"/>\n",
              "  </svg>\n",
              "    </button>\n",
              "\n",
              "  <style>\n",
              "    .colab-df-container {\n",
              "      display:flex;\n",
              "      gap: 12px;\n",
              "    }\n",
              "\n",
              "    .colab-df-convert {\n",
              "      background-color: #E8F0FE;\n",
              "      border: none;\n",
              "      border-radius: 50%;\n",
              "      cursor: pointer;\n",
              "      display: none;\n",
              "      fill: #1967D2;\n",
              "      height: 32px;\n",
              "      padding: 0 0 0 0;\n",
              "      width: 32px;\n",
              "    }\n",
              "\n",
              "    .colab-df-convert:hover {\n",
              "      background-color: #E2EBFA;\n",
              "      box-shadow: 0px 1px 2px rgba(60, 64, 67, 0.3), 0px 1px 3px 1px rgba(60, 64, 67, 0.15);\n",
              "      fill: #174EA6;\n",
              "    }\n",
              "\n",
              "    .colab-df-buttons div {\n",
              "      margin-bottom: 4px;\n",
              "    }\n",
              "\n",
              "    [theme=dark] .colab-df-convert {\n",
              "      background-color: #3B4455;\n",
              "      fill: #D2E3FC;\n",
              "    }\n",
              "\n",
              "    [theme=dark] .colab-df-convert:hover {\n",
              "      background-color: #434B5C;\n",
              "      box-shadow: 0px 1px 3px 1px rgba(0, 0, 0, 0.15);\n",
              "      filter: drop-shadow(0px 1px 2px rgba(0, 0, 0, 0.3));\n",
              "      fill: #FFFFFF;\n",
              "    }\n",
              "  </style>\n",
              "\n",
              "    <script>\n",
              "      const buttonEl =\n",
              "        document.querySelector('#df-1d132eb6-3d90-4d7d-901f-4411048bc664 button.colab-df-convert');\n",
              "      buttonEl.style.display =\n",
              "        google.colab.kernel.accessAllowed ? 'block' : 'none';\n",
              "\n",
              "      async function convertToInteractive(key) {\n",
              "        const element = document.querySelector('#df-1d132eb6-3d90-4d7d-901f-4411048bc664');\n",
              "        const dataTable =\n",
              "          await google.colab.kernel.invokeFunction('convertToInteractive',\n",
              "                                                    [key], {});\n",
              "        if (!dataTable) return;\n",
              "\n",
              "        const docLinkHtml = 'Like what you see? Visit the ' +\n",
              "          '<a target=\"_blank\" href=https://colab.research.google.com/notebooks/data_table.ipynb>data table notebook</a>'\n",
              "          + ' to learn more about interactive tables.';\n",
              "        element.innerHTML = '';\n",
              "        dataTable['output_type'] = 'display_data';\n",
              "        await google.colab.output.renderOutput(dataTable, element);\n",
              "        const docLink = document.createElement('div');\n",
              "        docLink.innerHTML = docLinkHtml;\n",
              "        element.appendChild(docLink);\n",
              "      }\n",
              "    </script>\n",
              "  </div>\n",
              "\n",
              "\n",
              "<div id=\"df-3ffc796a-c1e9-4c5a-aeae-4b0f4b2ef62d\">\n",
              "  <button class=\"colab-df-quickchart\" onclick=\"quickchart('df-3ffc796a-c1e9-4c5a-aeae-4b0f4b2ef62d')\"\n",
              "            title=\"Suggest charts\"\n",
              "            style=\"display:none;\">\n",
              "\n",
              "<svg xmlns=\"http://www.w3.org/2000/svg\" height=\"24px\"viewBox=\"0 0 24 24\"\n",
              "     width=\"24px\">\n",
              "    <g>\n",
              "        <path d=\"M19 3H5c-1.1 0-2 .9-2 2v14c0 1.1.9 2 2 2h14c1.1 0 2-.9 2-2V5c0-1.1-.9-2-2-2zM9 17H7v-7h2v7zm4 0h-2V7h2v10zm4 0h-2v-4h2v4z\"/>\n",
              "    </g>\n",
              "</svg>\n",
              "  </button>\n",
              "\n",
              "<style>\n",
              "  .colab-df-quickchart {\n",
              "      --bg-color: #E8F0FE;\n",
              "      --fill-color: #1967D2;\n",
              "      --hover-bg-color: #E2EBFA;\n",
              "      --hover-fill-color: #174EA6;\n",
              "      --disabled-fill-color: #AAA;\n",
              "      --disabled-bg-color: #DDD;\n",
              "  }\n",
              "\n",
              "  [theme=dark] .colab-df-quickchart {\n",
              "      --bg-color: #3B4455;\n",
              "      --fill-color: #D2E3FC;\n",
              "      --hover-bg-color: #434B5C;\n",
              "      --hover-fill-color: #FFFFFF;\n",
              "      --disabled-bg-color: #3B4455;\n",
              "      --disabled-fill-color: #666;\n",
              "  }\n",
              "\n",
              "  .colab-df-quickchart {\n",
              "    background-color: var(--bg-color);\n",
              "    border: none;\n",
              "    border-radius: 50%;\n",
              "    cursor: pointer;\n",
              "    display: none;\n",
              "    fill: var(--fill-color);\n",
              "    height: 32px;\n",
              "    padding: 0;\n",
              "    width: 32px;\n",
              "  }\n",
              "\n",
              "  .colab-df-quickchart:hover {\n",
              "    background-color: var(--hover-bg-color);\n",
              "    box-shadow: 0 1px 2px rgba(60, 64, 67, 0.3), 0 1px 3px 1px rgba(60, 64, 67, 0.15);\n",
              "    fill: var(--button-hover-fill-color);\n",
              "  }\n",
              "\n",
              "  .colab-df-quickchart-complete:disabled,\n",
              "  .colab-df-quickchart-complete:disabled:hover {\n",
              "    background-color: var(--disabled-bg-color);\n",
              "    fill: var(--disabled-fill-color);\n",
              "    box-shadow: none;\n",
              "  }\n",
              "\n",
              "  .colab-df-spinner {\n",
              "    border: 2px solid var(--fill-color);\n",
              "    border-color: transparent;\n",
              "    border-bottom-color: var(--fill-color);\n",
              "    animation:\n",
              "      spin 1s steps(1) infinite;\n",
              "  }\n",
              "\n",
              "  @keyframes spin {\n",
              "    0% {\n",
              "      border-color: transparent;\n",
              "      border-bottom-color: var(--fill-color);\n",
              "      border-left-color: var(--fill-color);\n",
              "    }\n",
              "    20% {\n",
              "      border-color: transparent;\n",
              "      border-left-color: var(--fill-color);\n",
              "      border-top-color: var(--fill-color);\n",
              "    }\n",
              "    30% {\n",
              "      border-color: transparent;\n",
              "      border-left-color: var(--fill-color);\n",
              "      border-top-color: var(--fill-color);\n",
              "      border-right-color: var(--fill-color);\n",
              "    }\n",
              "    40% {\n",
              "      border-color: transparent;\n",
              "      border-right-color: var(--fill-color);\n",
              "      border-top-color: var(--fill-color);\n",
              "    }\n",
              "    60% {\n",
              "      border-color: transparent;\n",
              "      border-right-color: var(--fill-color);\n",
              "    }\n",
              "    80% {\n",
              "      border-color: transparent;\n",
              "      border-right-color: var(--fill-color);\n",
              "      border-bottom-color: var(--fill-color);\n",
              "    }\n",
              "    90% {\n",
              "      border-color: transparent;\n",
              "      border-bottom-color: var(--fill-color);\n",
              "    }\n",
              "  }\n",
              "</style>\n",
              "\n",
              "  <script>\n",
              "    async function quickchart(key) {\n",
              "      const quickchartButtonEl =\n",
              "        document.querySelector('#' + key + ' button');\n",
              "      quickchartButtonEl.disabled = true;  // To prevent multiple clicks.\n",
              "      quickchartButtonEl.classList.add('colab-df-spinner');\n",
              "      try {\n",
              "        const charts = await google.colab.kernel.invokeFunction(\n",
              "            'suggestCharts', [key], {});\n",
              "      } catch (error) {\n",
              "        console.error('Error during call to suggestCharts:', error);\n",
              "      }\n",
              "      quickchartButtonEl.classList.remove('colab-df-spinner');\n",
              "      quickchartButtonEl.classList.add('colab-df-quickchart-complete');\n",
              "    }\n",
              "    (() => {\n",
              "      let quickchartButtonEl =\n",
              "        document.querySelector('#df-3ffc796a-c1e9-4c5a-aeae-4b0f4b2ef62d button');\n",
              "      quickchartButtonEl.style.display =\n",
              "        google.colab.kernel.accessAllowed ? 'block' : 'none';\n",
              "    })();\n",
              "  </script>\n",
              "</div>\n",
              "\n",
              "    </div>\n",
              "  </div>\n"
            ],
            "application/vnd.google.colaboratory.intrinsic+json": {
              "type": "dataframe",
              "variable_name": "dataset",
              "summary": "{\n  \"name\": \"dataset\",\n  \"rows\": 6019,\n  \"fields\": [\n    {\n      \"column\": \"Unnamed: 0\",\n      \"properties\": {\n        \"dtype\": \"number\",\n        \"std\": 1737,\n        \"min\": 0,\n        \"max\": 6018,\n        \"num_unique_values\": 6019,\n        \"samples\": [\n          2868,\n          5924,\n          3764\n        ],\n        \"semantic_type\": \"\",\n        \"description\": \"\"\n      }\n    },\n    {\n      \"column\": \"Name\",\n      \"properties\": {\n        \"dtype\": \"category\",\n        \"num_unique_values\": 1876,\n        \"samples\": [\n          \"Hyundai i20 1.2 Era\",\n          \"Toyota Corolla Altis GL MT\",\n          \"BMW 5 Series 2013-2017 520d Luxury Line\"\n        ],\n        \"semantic_type\": \"\",\n        \"description\": \"\"\n      }\n    },\n    {\n      \"column\": \"Location\",\n      \"properties\": {\n        \"dtype\": \"category\",\n        \"num_unique_values\": 11,\n        \"samples\": [\n          \"Jaipur\",\n          \"Mumbai\",\n          \"Bangalore\"\n        ],\n        \"semantic_type\": \"\",\n        \"description\": \"\"\n      }\n    },\n    {\n      \"column\": \"Year\",\n      \"properties\": {\n        \"dtype\": \"number\",\n        \"std\": 3,\n        \"min\": 1998,\n        \"max\": 2019,\n        \"num_unique_values\": 22,\n        \"samples\": [\n          2010,\n          2006,\n          2017\n        ],\n        \"semantic_type\": \"\",\n        \"description\": \"\"\n      }\n    },\n    {\n      \"column\": \"Kilometers_Driven\",\n      \"properties\": {\n        \"dtype\": \"number\",\n        \"std\": 91268,\n        \"min\": 171,\n        \"max\": 6500000,\n        \"num_unique_values\": 3093,\n        \"samples\": [\n          66484,\n          20364,\n          15134\n        ],\n        \"semantic_type\": \"\",\n        \"description\": \"\"\n      }\n    },\n    {\n      \"column\": \"Fuel_Type\",\n      \"properties\": {\n        \"dtype\": \"category\",\n        \"num_unique_values\": 5,\n        \"samples\": [\n          \"Diesel\",\n          \"Electric\",\n          \"Petrol\"\n        ],\n        \"semantic_type\": \"\",\n        \"description\": \"\"\n      }\n    },\n    {\n      \"column\": \"Transmission\",\n      \"properties\": {\n        \"dtype\": \"category\",\n        \"num_unique_values\": 2,\n        \"samples\": [\n          \"Automatic\",\n          \"Manual\"\n        ],\n        \"semantic_type\": \"\",\n        \"description\": \"\"\n      }\n    },\n    {\n      \"column\": \"Owner_Type\",\n      \"properties\": {\n        \"dtype\": \"category\",\n        \"num_unique_values\": 4,\n        \"samples\": [\n          \"Second\",\n          \"Third\"\n        ],\n        \"semantic_type\": \"\",\n        \"description\": \"\"\n      }\n    },\n    {\n      \"column\": \"Mileage\",\n      \"properties\": {\n        \"dtype\": \"category\",\n        \"num_unique_values\": 442,\n        \"samples\": [\n          \"19.6 kmpl\",\n          \"14.6 kmpl\"\n        ],\n        \"semantic_type\": \"\",\n        \"description\": \"\"\n      }\n    },\n    {\n      \"column\": \"Engine\",\n      \"properties\": {\n        \"dtype\": \"category\",\n        \"num_unique_values\": 146,\n        \"samples\": [\n          \"2967 CC\",\n          \"1978 CC\"\n        ],\n        \"semantic_type\": \"\",\n        \"description\": \"\"\n      }\n    },\n    {\n      \"column\": \"Power\",\n      \"properties\": {\n        \"dtype\": \"category\",\n        \"num_unique_values\": 372,\n        \"samples\": [\n          \"402 bhp\",\n          \"46.3 bhp\"\n        ],\n        \"semantic_type\": \"\",\n        \"description\": \"\"\n      }\n    },\n    {\n      \"column\": \"Seats\",\n      \"properties\": {\n        \"dtype\": \"number\",\n        \"std\": 0.8088395547482927,\n        \"min\": 0.0,\n        \"max\": 10.0,\n        \"num_unique_values\": 9,\n        \"samples\": [\n          9.0,\n          7.0\n        ],\n        \"semantic_type\": \"\",\n        \"description\": \"\"\n      }\n    },\n    {\n      \"column\": \"New_Price\",\n      \"properties\": {\n        \"dtype\": \"category\",\n        \"num_unique_values\": 540,\n        \"samples\": [\n          \"12.88 Lakh\",\n          \"14.84 Lakh\"\n        ],\n        \"semantic_type\": \"\",\n        \"description\": \"\"\n      }\n    },\n    {\n      \"column\": \"Price\",\n      \"properties\": {\n        \"dtype\": \"number\",\n        \"std\": 11.1879171124555,\n        \"min\": 0.44,\n        \"max\": 160.0,\n        \"num_unique_values\": 1373,\n        \"samples\": [\n          10.99,\n          45.86\n        ],\n        \"semantic_type\": \"\",\n        \"description\": \"\"\n      }\n    }\n  ]\n}"
            }
          },
          "metadata": {},
          "execution_count": 2
        }
      ]
    },
    {
      "cell_type": "code",
      "source": [],
      "metadata": {
        "id": "kVYq8t1mqEO3"
      },
      "execution_count": null,
      "outputs": []
    },
    {
      "cell_type": "markdown",
      "source": [
        "Let's first split the dataset into train and test datasets."
      ],
      "metadata": {
        "id": "8zFr_dLhoe0a"
      }
    },
    {
      "cell_type": "code",
      "source": [
        "X_train, X_test, y_train, y_test = train_test_split(dataset.iloc[:, :-1],\n",
        "                                                    dataset.iloc[:, -1],\n",
        "                                                    test_size = 0.3,\n",
        "                                                    random_state = 42)"
      ],
      "metadata": {
        "id": "o1PocdGrni21"
      },
      "execution_count": null,
      "outputs": []
    },
    {
      "cell_type": "code",
      "source": [
        "X_train.info()"
      ],
      "metadata": {
        "colab": {
          "base_uri": "https://localhost:8080/"
        },
        "id": "B02_IkW6ooT-",
        "outputId": "bea485a3-4f6d-423d-ac8f-82cabb99ba4c"
      },
      "execution_count": null,
      "outputs": [
        {
          "output_type": "stream",
          "name": "stdout",
          "text": [
            "<class 'pandas.core.frame.DataFrame'>\n",
            "Int64Index: 4213 entries, 4201 to 860\n",
            "Data columns (total 13 columns):\n",
            " #   Column             Non-Null Count  Dtype  \n",
            "---  ------             --------------  -----  \n",
            " 0   Unnamed: 0         4213 non-null   int64  \n",
            " 1   Name               4213 non-null   object \n",
            " 2   Location           4213 non-null   object \n",
            " 3   Year               4213 non-null   int64  \n",
            " 4   Kilometers_Driven  4213 non-null   int64  \n",
            " 5   Fuel_Type          4213 non-null   object \n",
            " 6   Transmission       4213 non-null   object \n",
            " 7   Owner_Type         4213 non-null   object \n",
            " 8   Mileage            4212 non-null   object \n",
            " 9   Engine             4189 non-null   object \n",
            " 10  Power              4189 non-null   object \n",
            " 11  Seats              4185 non-null   float64\n",
            " 12  New_Price          580 non-null    object \n",
            "dtypes: float64(1), int64(3), object(9)\n",
            "memory usage: 460.8+ KB\n"
          ]
        }
      ]
    },
    {
      "cell_type": "markdown",
      "source": [
        "## Exploratory Data Analysis\n",
        "\n",
        "Let's explore the various columns and draw information about how useful each column is. I'll also modify the test data based on training data."
      ],
      "metadata": {
        "id": "R1MCdHkkoupG"
      }
    },
    {
      "cell_type": "markdown",
      "source": [
        "### Index\n",
        "\n",
        "The first column is the index for each data point and hence we can simply remove it."
      ],
      "metadata": {
        "id": "qmZwEtsZo5im"
      }
    },
    {
      "cell_type": "code",
      "source": [
        "X_train = X_train.iloc[:, 1:]\n",
        "X_test = X_test.iloc[:, 1:]"
      ],
      "metadata": {
        "id": "mBPjW3bbowVd"
      },
      "execution_count": null,
      "outputs": []
    },
    {
      "cell_type": "markdown",
      "source": [
        "### Name\n",
        "\n",
        "Let's explore the various cars in the dataset."
      ],
      "metadata": {
        "id": "XjQbGDB5pEC9"
      }
    },
    {
      "cell_type": "code",
      "source": [
        "X_train[\"Name\"].value_counts()"
      ],
      "metadata": {
        "colab": {
          "base_uri": "https://localhost:8080/"
        },
        "id": "1btENvkdpE7Y",
        "outputId": "b77a6c81-e7de-4f3c-b855-0b2b69fb40f0"
      },
      "execution_count": null,
      "outputs": [
        {
          "output_type": "execute_result",
          "data": {
            "text/plain": [
              "Mahindra XUV500 W8 2WD                35\n",
              "Maruti Swift VDI                      31\n",
              "Maruti Ritz VDi                       26\n",
              "Hyundai i10 Sportz                    25\n",
              "Maruti Swift Dzire VDI                24\n",
              "                                      ..\n",
              "Skoda Laura L and K AT                 1\n",
              "Honda Amaze S Diesel                   1\n",
              "Nissan Micra XE                        1\n",
              "Renault KWID Climber 1.0 MT            1\n",
              "Ford Endeavour 2.2 Titanium AT 4X2     1\n",
              "Name: Name, Length: 1592, dtype: int64"
            ]
          },
          "metadata": {},
          "execution_count": 6
        }
      ]
    },
    {
      "cell_type": "markdown",
      "source": [
        "As it appears, there are several cars in the dataset, some of them with a count higher than 1.\n",
        "Sometimes the resale value of a car also depends on manufacturer of car and hence, I'll extract the manufacturer from this column and add it to the dataset."
      ],
      "metadata": {
        "id": "MjWDZd00pMOs"
      }
    },
    {
      "cell_type": "code",
      "source": [
        "make_train = X_train[\"Name\"].str.split(\" \", expand = True)\n",
        "make_test = X_test[\"Name\"].str.split(\" \", expand = True)"
      ],
      "metadata": {
        "id": "w9_3sJHDpNHJ"
      },
      "execution_count": null,
      "outputs": []
    },
    {
      "cell_type": "code",
      "source": [
        "X_train[\"Manufacturer\"] = make_train[0]\n",
        "X_test[\"Manufacturer\"] = make_test[0]"
      ],
      "metadata": {
        "id": "ggTsUqIupSlb"
      },
      "execution_count": null,
      "outputs": []
    },
    {
      "cell_type": "markdown",
      "source": [
        "Let's also confirm that there are no null values and identify all unique values."
      ],
      "metadata": {
        "id": "OHOh2dAGpZF_"
      }
    },
    {
      "cell_type": "code",
      "source": [
        "plt.figure(figsize = (12, 8))\n",
        "plot = sns.countplot(x = 'Manufacturer', data = X_train)\n",
        "plt.xticks(rotation = 90)\n",
        "for p in plot.patches:\n",
        "    plot.annotate(p.get_height(),\n",
        "                        (p.get_x() + p.get_width() / 2.0,\n",
        "                         p.get_height()),\n",
        "                        ha = 'center',\n",
        "                        va = 'center',\n",
        "                        xytext = (0, 5),\n",
        "                        textcoords = 'offset points')\n",
        "\n",
        "plt.title(\"Count of cars based on manufacturers\")\n",
        "plt.xlabel(\"Manufacturer\")\n",
        "plt.ylabel(\"Count of cars\")"
      ],
      "metadata": {
        "colab": {
          "base_uri": "https://localhost:8080/",
          "height": 801
        },
        "id": "QPwSc5vxpbQW",
        "outputId": "ad2c0218-97b9-4928-e0c2-b0735ef5ad1c"
      },
      "execution_count": null,
      "outputs": [
        {
          "output_type": "execute_result",
          "data": {
            "text/plain": [
              "Text(0, 0.5, 'Count of cars')"
            ]
          },
          "metadata": {},
          "execution_count": 9
        },
        {
          "output_type": "display_data",
          "data": {
            "text/plain": [
              "<Figure size 1200x800 with 1 Axes>"
            ],
            "image/png": "[encoded data removed]"
          },
          "metadata": {}
        }
      ]
    },
    {
      "cell_type": "markdown",
      "source": [
        "Maximum cars in the dataset are by the manufacturer **Maruti** and there are no null values.\n",
        "\n",
        "I'll also drop the `Name` column."
      ],
      "metadata": {
        "id": "T-r1XzPzpyNf"
      }
    },
    {
      "cell_type": "code",
      "source": [
        "\n",
        "fuel_counts = dataset['Fuel_Type'].value_counts()\n",
        "\n",
        "# Plotting\n",
        "plt.figure(figsize=(8, 6))\n",
        "plt.pie(fuel_counts, labels=fuel_counts.index, autopct='%1.1f%%', startangle=140)\n",
        "plt.title('Distribution of Fuels')\n",
        "plt.axis('equal')  # Equal aspect ratio ensures that pie is drawn as a circle.\n",
        "plt.show()"
      ],
      "metadata": {
        "colab": {
          "base_uri": "https://localhost:8080/",
          "height": 521
        },
        "id": "b5VooTn-L_Fp",
        "outputId": "d57278f6-3131-4b64-e59e-e323fcec6a1b"
      },
      "execution_count": null,
      "outputs": [
        {
          "output_type": "display_data",
          "data": {
            "text/plain": [
              "<Figure size 800x600 with 1 Axes>"
            ],
            "image/png": "[encoded data removed]"
          },
          "metadata": {}
        }
      ]
    },
    {
      "cell_type": "markdown",
      "source": [
        "Maximum numbers of cars where using Diesel"
      ],
      "metadata": {
        "id": "ChV090AIMTMS"
      }
    },
    {
      "cell_type": "code",
      "source": [
        "\n",
        "year_counts = dataset['Year'].value_counts().sort_index()\n",
        "\n",
        "# Plotting\n",
        "plt.figure(figsize=(10, 6))\n",
        "year_counts.plot(kind='bar', color='green')\n",
        "plt.title('Distribution of Cars by Year')\n",
        "plt.xlabel('Year')\n",
        "plt.ylabel('Number of Cars')\n",
        "plt.xticks(rotation=45)\n",
        "plt.grid(axis='y', linestyle='--', alpha=0.7)\n",
        "plt.tight_layout()\n",
        "plt.show()\n"
      ],
      "metadata": {
        "colab": {
          "base_uri": "https://localhost:8080/",
          "height": 597
        },
        "id": "Oxl1wlT0PPdI",
        "outputId": "740da741-3b11-44e5-af47-cd3bdcbd14c9"
      },
      "execution_count": null,
      "outputs": [
        {
          "output_type": "display_data",
          "data": {
            "text/plain": [
              "<Figure size 1000x600 with 1 Axes>"
            ],
            "image/png": "[encoded data removed]"
          },
          "metadata": {}
        }
      ]
    },
    {
      "cell_type": "code",
      "source": [
        "X_train.drop(\"Name\", axis = 1, inplace = True)\n",
        "X_test.drop(\"Name\", axis = 1, inplace = True)"
      ],
      "metadata": {
        "id": "JnbSMVwfpo5T"
      },
      "execution_count": null,
      "outputs": []
    },
    {
      "cell_type": "markdown",
      "source": [
        "### Location\n",
        "\n",
        "Location should not be a determinant for the price of a car and I'll safely remove it."
      ],
      "metadata": {
        "id": "_rJ3CHiRp8TN"
      }
    },
    {
      "cell_type": "code",
      "source": [
        "X_train.drop(\"Location\", axis = 1, inplace = True)\n",
        "X_test.drop(\"Location\", axis = 1, inplace = True)"
      ],
      "metadata": {
        "id": "4oPmKOPLp734"
      },
      "execution_count": null,
      "outputs": []
    },
    {
      "cell_type": "markdown",
      "source": [
        "### Year\n",
        "\n",
        "Year has no significance on its own unless we try to extract how old a car is from this and see how its resale price may get affected."
      ],
      "metadata": {
        "id": "jvEtb05rqGJI"
      }
    },
    {
      "cell_type": "code",
      "source": [
        "curr_time = datetime.datetime.now()\n",
        "X_train['Year'] = X_train['Year'].apply(lambda x : curr_time.year - x)\n",
        "X_test['Year'] = X_test['Year'].apply(lambda x : curr_time.year - x)"
      ],
      "metadata": {
        "id": "RZskVawCqDQX"
      },
      "execution_count": null,
      "outputs": []
    },
    {
      "cell_type": "markdown",
      "source": [
        "### Fuel_Type, Transmission,  and Owner_Type\n",
        "\n",
        "All these columns are categorical columns which should be converted to dummy variables before being used."
      ],
      "metadata": {
        "id": "4XmKTpnjqNg0"
      }
    },
    {
      "cell_type": "markdown",
      "source": [
        "### Kilometers_Driven\n",
        "\n",
        "`Kilometers_Driven` is a numerical column with a certain range of values."
      ],
      "metadata": {
        "id": "nesQzmvlqYXi"
      }
    },
    {
      "cell_type": "code",
      "source": [
        "X_train[\"Kilometers_Driven\"]"
      ],
      "metadata": {
        "colab": {
          "base_uri": "https://localhost:8080/"
        },
        "id": "gngnVMsPqUbM",
        "outputId": "e65d1b80-5323-4c5d-e5af-434e540b4346"
      },
      "execution_count": null,
      "outputs": [
        {
          "output_type": "execute_result",
          "data": {
            "text/plain": [
              "4201     77000\n",
              "4383     19947\n",
              "1779     70963\n",
              "4020    115195\n",
              "3248     58752\n",
              "         ...  \n",
              "3772     27000\n",
              "5191      9000\n",
              "5226    140000\n",
              "5390     76414\n",
              "860      98000\n",
              "Name: Kilometers_Driven, Length: 4213, dtype: int64"
            ]
          },
          "metadata": {},
          "execution_count": 13
        }
      ]
    },
    {
      "cell_type": "markdown",
      "source": [
        "The data range is really varied and the high values might affect prediction, thus, it is really important that scaling be applied to this column for sure."
      ],
      "metadata": {
        "id": "cZLEG-PXqhD0"
      }
    },
    {
      "cell_type": "markdown",
      "source": [
        "## Mileage\n",
        "\n",
        "This column defines the mileage of the car. We need to extract the numerical value out of each string and save it."
      ],
      "metadata": {
        "id": "O0HR5ebWqkdF"
      }
    },
    {
      "cell_type": "code",
      "source": [
        "mileage_train = X_train[\"Mileage\"].str.split(\" \", expand = True)\n",
        "mileage_test = X_test[\"Mileage\"].str.split(\" \", expand = True)\n",
        "\n",
        "X_train[\"Mileage\"] = pd.to_numeric(mileage_train[0], errors = 'coerce')\n",
        "X_test[\"Mileage\"] = pd.to_numeric(mileage_test[0], errors = 'coerce')"
      ],
      "metadata": {
        "id": "h3ZypMZ8qnbS"
      },
      "execution_count": null,
      "outputs": []
    },
    {
      "cell_type": "markdown",
      "source": [
        "Let's check for missing values."
      ],
      "metadata": {
        "id": "MJVWKed8qzpu"
      }
    },
    {
      "cell_type": "code",
      "source": [
        "print(sum(X_train[\"Mileage\"].isnull()))\n",
        "print(sum(X_test[\"Mileage\"].isnull()))"
      ],
      "metadata": {
        "colab": {
          "base_uri": "https://localhost:8080/"
        },
        "id": "342pu9gwq0jq",
        "outputId": "a294192c-1521-456c-a26f-64af001366c2"
      },
      "execution_count": null,
      "outputs": [
        {
          "output_type": "stream",
          "name": "stdout",
          "text": [
            "1\n",
            "1\n"
          ]
        }
      ]
    },
    {
      "cell_type": "markdown",
      "source": [
        "There is one missing value in each. I'll replace the missing value with the mean value of the column based on the training data."
      ],
      "metadata": {
        "id": "oJs6qNqGq8V6"
      }
    },
    {
      "cell_type": "code",
      "source": [
        "X_train[\"Mileage\"].fillna(X_train[\"Mileage\"].astype(\"float64\").mean(), inplace = True)\n",
        "X_test[\"Mileage\"].fillna(X_train[\"Mileage\"].astype(\"float64\").mean(), inplace = True)"
      ],
      "metadata": {
        "id": "lYUwbUD2q9Yh"
      },
      "execution_count": null,
      "outputs": []
    },
    {
      "cell_type": "markdown",
      "source": [
        "### Engine, Power and Seats\n",
        "\n",
        "The `Engine` values are defined in CC so I need to remove `CC` from the data. Similarly, `Power` has bhp, so I'll remove `bhp` from it. Also, as there are missing values in `Engine`, `Power` and `Seats`, I'll again replace them with the mean."
      ],
      "metadata": {
        "id": "7jISj0M-rE3y"
      }
    },
    {
      "cell_type": "code",
      "source": [
        "cc_train = X_train[\"Engine\"].str.split(\" \", expand = True)\n",
        "cc_test = X_test[\"Engine\"].str.split(\" \", expand = True)\n",
        "X_train[\"Engine\"] = pd.to_numeric(cc_train[0], errors = 'coerce')\n",
        "X_test[\"Engine\"] = pd.to_numeric(cc_test[0], errors = 'coerce')\n",
        "\n",
        "bhp_train = X_train[\"Power\"].str.split(\" \", expand = True)\n",
        "bhp_test = X_test[\"Power\"].str.split(\" \", expand = True)\n",
        "X_train[\"Power\"] = pd.to_numeric(bhp_train[0], errors = 'coerce')\n",
        "X_test[\"Power\"] = pd.to_numeric(bhp_test[0], errors = 'coerce')"
      ],
      "metadata": {
        "id": "5obm4tjjrEZo"
      },
      "execution_count": null,
      "outputs": []
    },
    {
      "cell_type": "markdown",
      "source": [],
      "metadata": {
        "id": "XIWN18Hi-511"
      }
    },
    {
      "cell_type": "code",
      "source": [
        "X_train[\"Engine\"].fillna(X_train[\"Engine\"].astype(\"float64\").mean(), inplace = True)\n",
        "X_test[\"Engine\"].fillna(X_train[\"Engine\"].astype(\"float64\").mean(), inplace = True)\n",
        "\n",
        "X_train[\"Power\"].fillna(X_train[\"Power\"].astype(\"float64\").mean(), inplace = True)\n",
        "X_test[\"Power\"].fillna(X_train[\"Power\"].astype(\"float64\").mean(), inplace = True)\n",
        "\n",
        "X_train[\"Seats\"].fillna(X_train[\"Seats\"].astype(\"float64\").mean(), inplace = True)\n",
        "X_test[\"Seats\"].fillna(X_train[\"Seats\"].astype(\"float64\").mean(), inplace = True)"
      ],
      "metadata": {
        "id": "8_hzTsckrkWf"
      },
      "execution_count": null,
      "outputs": []
    },
    {
      "cell_type": "markdown",
      "source": [
        "### New Price\n",
        "\n",
        "As most of the values are missing, I'll drop this column altogether."
      ],
      "metadata": {
        "id": "MCcIv6_VrooO"
      }
    },
    {
      "cell_type": "code",
      "source": [
        "X_train.drop([\"New_Price\"], axis = 1, inplace = True)\n",
        "X_test.drop([\"New_Price\"], axis = 1, inplace = True)"
      ],
      "metadata": {
        "id": "d-9zXiX0roRj"
      },
      "execution_count": null,
      "outputs": []
    },
    {
      "cell_type": "markdown",
      "source": [
        "## Data Processing\n",
        "\n",
        "Now that we have worked with the training data, let's create dummy columns for categorical columns before we begin training."
      ],
      "metadata": {
        "id": "OJ3IWOudrt8j"
      }
    },
    {
      "cell_type": "code",
      "source": [
        "X_train = pd.get_dummies(X_train,\n",
        "                         columns = [\"Manufacturer\", \"Fuel_Type\", \"Transmission\", \"Owner_Type\"],\n",
        "                         drop_first = True)"
      ],
      "metadata": {
        "id": "nNXG2dcJrxfq"
      },
      "execution_count": null,
      "outputs": []
    },
    {
      "cell_type": "code",
      "source": [
        "X_test = pd.get_dummies(X_test,\n",
        "                         columns = [\"Manufacturer\", \"Fuel_Type\", \"Transmission\", \"Owner_Type\"],\n",
        "                         drop_first = True)"
      ],
      "metadata": {
        "id": "gx_AaaGor5Bn"
      },
      "execution_count": null,
      "outputs": []
    },
    {
      "cell_type": "markdown",
      "source": [
        "It might be possible that the dummy column creation would be different in test and train data, thus, I'd fill in all missing columns with zeros."
      ],
      "metadata": {
        "id": "8Zs7hXGNr884"
      }
    },
    {
      "cell_type": "code",
      "source": [
        "missing_cols = set(X_train.columns) - set(X_test.columns)\n",
        "for col in missing_cols:\n",
        "    X_test[col] = 0\n",
        "X_test = X_test[X_train.columns]"
      ],
      "metadata": {
        "id": "MinM92Kbr94N"
      },
      "execution_count": null,
      "outputs": []
    },
    {
      "cell_type": "markdown",
      "source": [
        "Finally, as the last step of data processing, I'll scale the data."
      ],
      "metadata": {
        "id": "VP0KVfUgsHjN"
      }
    },
    {
      "cell_type": "code",
      "source": [
        "standardScaler = StandardScaler()\n",
        "standardScaler.fit(X_train)\n",
        "X_train = standardScaler.transform(X_train)\n",
        "X_test = standardScaler.transform(X_test)"
      ],
      "metadata": {
        "id": "1Nh_BqGvsIYT"
      },
      "execution_count": null,
      "outputs": []
    },
    {
      "cell_type": "markdown",
      "source": [
        "## Training and predicting\n",
        "\n",
        "I'll create a **Linear Regression** model and a **Random Forest** model to train on the data and use it for future predictions."
      ],
      "metadata": {
        "id": "kvve0HsJsPLI"
      }
    },
    {
      "cell_type": "code",
      "source": [
        "linearRegression = LinearRegression()\n",
        "linearRegression.fit(X_train, y_train)\n",
        "y_pred = linearRegression.predict(X_test)\n",
        "r2_score(y_test, y_pred)"
      ],
      "metadata": {
        "colab": {
          "base_uri": "https://localhost:8080/"
        },
        "id": "TqeC54SqsQN7",
        "outputId": "193d7cca-b859-4f3c-fd94-ee84c4612d74"
      },
      "execution_count": null,
      "outputs": [
        {
          "output_type": "execute_result",
          "data": {
            "text/plain": [
              "0.7008908549416727"
            ]
          },
          "metadata": {},
          "execution_count": 24
        }
      ]
    },
    {
      "cell_type": "markdown",
      "source": [
        "The **Linear Regression** model performed the best with a R2 score of **0.70**\n"
      ],
      "metadata": {
        "id": "gHOIzVCF6lJH"
      }
    },
    {
      "cell_type": "code",
      "source": [
        "rf = RandomForestRegressor(n_estimators = 100)\n",
        "rf.fit(X_train, y_train)\n",
        "y_pred = rf.predict(X_test)\n",
        "r2_score(y_test, y_pred)"
      ],
      "metadata": {
        "colab": {
          "base_uri": "https://localhost:8080/"
        },
        "id": "Jb0I7H-ssWyx",
        "outputId": "48694bb2-ca9d-44a6-8b9a-ff72f88e8270"
      },
      "execution_count": null,
      "outputs": [
        {
          "output_type": "execute_result",
          "data": {
            "text/plain": [
              "0.8870000450906768"
            ]
          },
          "metadata": {},
          "execution_count": 25
        }
      ]
    },
    {
      "cell_type": "markdown",
      "source": [
        "The **Random Forest** model performed the best with a R2 score of **0.88**."
      ],
      "metadata": {
        "id": "4rlFJHsHsdls"
      }
    }
  ]
}